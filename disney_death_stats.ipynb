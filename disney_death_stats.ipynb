{
 "cells": [
  {
   "cell_type": "code",
   "execution_count": 30,
   "metadata": {},
   "outputs": [],
   "source": [
    "import numpy as np\n",
    "import matplotlib.pylab as plt\n",
    "%matplotlib inline\n",
    "from datetime import datetime\n",
    "from scipy.interpolate import CubicSpline"
   ]
  },
  {
   "cell_type": "code",
   "execution_count": 2,
   "metadata": {},
   "outputs": [],
   "source": [
    "# Read in the data\n",
    "names = ['movie', 'relation', 'dl']\n",
    "types= ['U30', 'U20', 'U20']\n",
    "death_log = np.genfromtxt('death_log.dat', delimiter=';', comments='#', dtype=list(zip(names,types)))\n",
    "names = ['movie', 'date']\n",
    "types= ['U30', 'U20']\n",
    "movies = np.genfromtxt('movies.dat', delimiter=';', comments='#', dtype=list(zip(names,types)))\n",
    "for i,m in enumerate(movies):\n",
    "    movies[i]['date'] = movies[i]['date'].strip()\n",
    "    movies[i]['movie'] = movies[i]['movie'].strip()"
   ]
  },
  {
   "cell_type": "code",
   "execution_count": null,
   "metadata": {},
   "outputs": [],
   "source": []
  },
  {
   "cell_type": "code",
   "execution_count": 3,
   "metadata": {},
   "outputs": [],
   "source": [
    "# Make an array to hold the relevant data in better dtypes\n",
    "names = ['movie', 'relation', 'live', 'date', 'dt']\n",
    "types = ['U30', 'U20', bool, '<M8[D]', float]\n",
    "data = np.zeros(death_log.size, dtype=list(zip(names, types)))"
   ]
  },
  {
   "cell_type": "code",
   "execution_count": 4,
   "metadata": {},
   "outputs": [],
   "source": [
    "for i, dl in enumerate(death_log):\n",
    "    data[i]['movie'] = dl['movie'].strip()\n",
    "    data[i]['relation'] = dl['relation'].strip()\n",
    "    if dl['dl'].strip() == 'lived':\n",
    "        data[i]['live'] = True\n",
    "    else:\n",
    "        data[i]['live'] = False\n",
    "    match_name = np.where(movies['movie'] == dl['movie'].strip())[0]\n",
    "    datetime_object = datetime.strptime('Jun 1 2005  1:33PM', '%b %d %Y %I:%M%p')\n",
    "    dto = datetime.strptime(movies['date'][match_name][0], '%B %d, %Y')\n",
    "    data[i]['date'] = np.datetime64(dto)\n",
    "    \n",
    "data['dt'] = (data['date'] - np.datetime64('1900', 'Y')).astype(float)/365.25 + 1900\n"
   ]
  },
  {
   "cell_type": "code",
   "execution_count": 5,
   "metadata": {},
   "outputs": [
    {
     "data": {
      "text/plain": [
       "array([2003.40588638, 2003.40588638, 1942.61190965, 1942.61190965,\n",
       "       1942.61190965, 1942.61190965, 1981.51950719, 2016.89253936,\n",
       "       2016.89253936, 2016.89253936, 2013.88911704, 2013.88911704,\n",
       "       2013.88911704, 1994.45037645, 1994.45037645, 1994.45037645,\n",
       "       1994.45037645, 2017.88911704, 2017.88911704, 2017.88911704,\n",
       "       2017.88911704, 2017.88911704, 2017.88911704, 2017.88911704,\n",
       "       2004.84325804, 2004.84325804, 2004.84325804, 1989.87542779,\n",
       "       1941.80698152, 1940.09856263, 1955.46885695, 1955.46885695,\n",
       "       1955.46885695, 1955.46885695, 1970.97604381, 1970.97604381,\n",
       "       1970.97604381, 1991.88774812, 1995.4715948 , 1996.46817248,\n",
       "       1951.56741958, 1998.46132786, 1998.46132786, 1998.46132786,\n",
       "       1999.45790554, 1999.45790554, 2002.46680356, 2009.94113621,\n",
       "       2003.83025325, 2003.83025325, 2012.47091034, 2012.47091034])"
      ]
     },
     "execution_count": 5,
     "metadata": {},
     "output_type": "execute_result"
    }
   ],
   "source": [
    "((data['date'] - np.datetime64('1900', 'Y'))).astype(float)/365.25 + 1900"
   ]
  },
  {
   "cell_type": "code",
   "execution_count": 6,
   "metadata": {},
   "outputs": [
    {
     "name": "stdout",
     "output_type": "stream",
     "text": [
      "in 23 Disney/Pixar movies\n",
      "Relation, N total, N lived, N died, frac died\n",
      "aunt 1 1 0 0.0\n",
      "brother 2 1 1 0.5\n",
      "daughter 6 6 0 0.0\n",
      "father 13 10 3 0.23076923076923078\n",
      "grandmother 3 2 1 0.3333333333333333\n",
      "greatgrandmother 1 0 1 1.0\n",
      "mother 13 7 6 0.46153846153846156\n",
      "sister 4 4 0 0.0\n",
      "son 7 7 0 0.0\n",
      "uncle 2 1 1 0.5\n",
      "(plus a litter of 15 dalmations all lived)\n"
     ]
    }
   ],
   "source": [
    "# Let's print out some basic stats\n",
    "u_relations = np.unique(data['relation'])\n",
    "print('in %i Disney/Pixar movies' % np.size(np.unique(data['movie'])))\n",
    "\n",
    "print('Relation, N total, N lived, N died, frac died')\n",
    "for relation in u_relations:\n",
    "    match = np.where(data['relation'] == relation)[0]\n",
    "    n_lived = np.size(np.where(data['live'][match] == True)[0])\n",
    "    n_died = np.size(np.where(data['live'][match] == False)[0])\n",
    "    n_tot = np.size(match)\n",
    "    \n",
    "    print(relation, n_tot, n_lived, n_died, n_died/n_tot)\n",
    "print ('(plus a litter of 15 dalmations all lived)')"
   ]
  },
  {
   "cell_type": "code",
   "execution_count": 7,
   "metadata": {},
   "outputs": [],
   "source": [
    "# Maybe make a seperate file for referenced or strongly implied parent deaths (Little Mermaid, Sword in the Stone, Lilo and Stitch, Cinderella, etc.)"
   ]
  },
  {
   "cell_type": "code",
   "execution_count": 8,
   "metadata": {},
   "outputs": [],
   "source": [
    "# Maybe look at plots of mother and father mortality as a function of time."
   ]
  },
  {
   "cell_type": "code",
   "execution_count": 9,
   "metadata": {},
   "outputs": [],
   "source": [
    "def moving_average(a, n=3) :\n",
    "    ret = np.cumsum(a, dtype=float)\n",
    "    ret[n:] = ret[n:] - ret[:-n]\n",
    "    return ret[n - 1:] / n\n"
   ]
  },
  {
   "cell_type": "code",
   "execution_count": 10,
   "metadata": {},
   "outputs": [],
   "source": [
    "data.sort(order='dt')"
   ]
  },
  {
   "cell_type": "code",
   "execution_count": 11,
   "metadata": {},
   "outputs": [
    {
     "data": {
      "text/plain": [
       "Text(0,0.5,'Fraction of Surviving Fathers')"
      ]
     },
     "execution_count": 11,
     "metadata": {},
     "output_type": "execute_result"
    },
    {
     "data": {
      "image/png": "[encoded data removed]",
      "text/plain": [
       "<Figure size 432x288 with 1 Axes>"
      ]
     },
     "metadata": {
      "needs_background": "light"
     },
     "output_type": "display_data"
    }
   ],
   "source": [
    "good = np.where(data['relation'] == 'father')\n",
    "ave_father = moving_average(data['live'][good], n=3)\n",
    "ave_time_f = moving_average(data['dt'][good], n=3)\n",
    "plt.plot(ave_time_f, ave_father, 'ko')\n",
    "plt.xlabel('year')\n",
    "plt.ylabel(\"Fraction of Surviving Fathers\")"
   ]
  },
  {
   "cell_type": "code",
   "execution_count": 12,
   "metadata": {},
   "outputs": [
    {
     "data": {
      "text/plain": [
       "Text(0,0.5,'Fraction of Surviving Mothers')"
      ]
     },
     "execution_count": 12,
     "metadata": {},
     "output_type": "execute_result"
    },
    {
     "data": {
      "image/png": "[encoded data removed]",
      "text/plain": [
       "<Figure size 432x288 with 1 Axes>"
      ]
     },
     "metadata": {
      "needs_background": "light"
     },
     "output_type": "display_data"
    }
   ],
   "source": [
    "good = np.where(data['relation'] == 'mother')\n",
    "ave_mother = moving_average(data['live'][good], n=3)\n",
    "ave_time_m = moving_average(data['dt'][good], n=3)\n",
    "plt.plot(ave_time_m, ave_mother, 'ko')\n",
    "plt.xlabel('year')\n",
    "plt.ylabel(\"Fraction of Surviving Mothers\")"
   ]
  },
  {
   "cell_type": "code",
   "execution_count": 19,
   "metadata": {},
   "outputs": [
    {
     "data": {
      "text/plain": [
       "Text(0.5,1,'Disney/Pixar Protagonist Relatives\\n(three film rolling mean)')"
      ]
     },
     "execution_count": 19,
     "metadata": {},
     "output_type": "execute_result"
    },
    {
     "data": {
      "image/png": "[encoded data removed]",
      "text/plain": [
       "<Figure size 432x288 with 1 Axes>"
      ]
     },
     "metadata": {
      "needs_background": "light"
     },
     "output_type": "display_data"
    }
   ],
   "source": [
    "plt.plot(ave_time_m, ave_mother, 'r', label='mothers')\n",
    "plt.plot(ave_time_f, ave_father, 'b', alpha=0.5, label='fathers')\n",
    "plt.legend()\n",
    "plt.ylabel('Fraction Surviving')\n",
    "plt.xlabel('Year')\n",
    "plt.title('Disney/Pixar Protagonist Relatives\\n(three film rolling mean)')"
   ]
  },
  {
   "cell_type": "code",
   "execution_count": null,
   "metadata": {},
   "outputs": [],
   "source": []
  },
  {
   "cell_type": "code",
   "execution_count": null,
   "metadata": {},
   "outputs": [],
   "source": []
  },
  {
   "cell_type": "code",
   "execution_count": null,
   "metadata": {},
   "outputs": [],
   "source": []
  }
 ],
 "metadata": {
  "kernelspec": {
   "display_name": "Python 3",
   "language": "python",
   "name": "python3"
  },
  "language_info": {
   "codemirror_mode": {
    "name": "ipython",
    "version": 3
   },
   "file_extension": ".py",
   "mimetype": "text/x-python",
   "name": "python",
   "nbconvert_exporter": "python",
   "pygments_lexer": "ipython3",
   "version": "3.7.1"
  }
 },
 "nbformat": 4,
 "nbformat_minor": 2
}
